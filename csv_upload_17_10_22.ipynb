{
  "nbformat": 4,
  "nbformat_minor": 0,
  "metadata": {
    "colab": {
      "provenance": [],
      "authorship_tag": "ABX9TyNTTQNUfxEbHYUxD31GZHQe",
      "include_colab_link": true
    },
    "kernelspec": {
      "name": "python3",
      "display_name": "Python 3"
    },
    "language_info": {
      "name": "python"
    }
  },
  "cells": [
    {
      "cell_type": "markdown",
      "metadata": {
        "id": "view-in-github",
        "colab_type": "text"
      },
      "source": [
        "<a href=\"https://colab.research.google.com/github/vijayvishnu1/data-science/blob/main/csv_upload_17_10_22.ipynb\" target=\"_parent\"><img src=\"https://colab.research.google.com/assets/colab-badge.svg\" alt=\"Open In Colab\"/></a>"
      ]
    },
    {
      "cell_type": "markdown",
      "source": [
        "csv\n",
        "take (folder symbol) from right\n",
        "right click on sample data and upload csv \n",
        "paste golf cv and upload\n",
        "\n",
        "\n",
        " copy and paste the code\n",
        "\n",
        "\n",
        "import pandas as pd\n",
        "import io\n",
        "from sklearn.model_selection import train_test_split\n",
        "\n",
        "df1 = pd.read_csv('/content/sample_data/golf-dataset.csv')\n",
        "print(df1)\n",
        "df1.head(10)\n",
        " \n",
        "X = df1.iloc[:, [0,1,2, 3]].values\n",
        "y = df1.iloc[:, -1].values\n",
        "print(X)\n",
        "print(y)\n",
        "\n",
        "X_train, X_test, y_train, y_test = train_test_split( X, y, test_size = 0.2, random_state=42)\n",
        "\n",
        "print(X_test)\n",
        "\n",
        "\n",
        "copy th path of csv file and paste or replace the path in code\n",
        "\n",
        " from df1 = pd.read_csv('/content/golf-dataset.csv') to \n",
        " df1 = pd.read_csv('/content/sample_data/golf-dataset.csv')\n",
        "\n",
        " then run\n",
        "\n",
        "\n",
        "\n",
        "\n",
        "\n"
      ],
      "metadata": {
        "id": "95iuxHIINTGL"
      }
    },
    {
      "cell_type": "code",
      "execution_count": 2,
      "metadata": {
        "colab": {
          "base_uri": "https://localhost:8080/"
        },
        "id": "RLK3X-4ONJ00",
        "outputId": "86f363f3-fe85-4d75-9cb2-5ec82be64b1d"
      },
      "outputs": [
        {
          "output_type": "stream",
          "name": "stdout",
          "text": [
            "     Outlook  Temp Humidity  Windy Play Golf\n",
            "0      Rainy   Hot     High  False        No\n",
            "1      Rainy   Hot     High   True        No\n",
            "2   Overcast   Hot     High  False       Yes\n",
            "3      Sunny  Mild     High  False       Yes\n",
            "4      Sunny  Cool   Normal  False       Yes\n",
            "5      Sunny  Cool   Normal   True        No\n",
            "6   Overcast  Cool   Normal   True       Yes\n",
            "7      Rainy  Mild     High  False        No\n",
            "8      Rainy  Cool   Normal  False       Yes\n",
            "9      Sunny  Mild   Normal  False       Yes\n",
            "10     Rainy  Mild   Normal   True       Yes\n",
            "11  Overcast  Mild     High   True       Yes\n",
            "12  Overcast   Hot   Normal  False       Yes\n",
            "13     Sunny  Mild     High   True        No\n",
            "[['Rainy' 'Hot' 'High' False]\n",
            " ['Rainy' 'Hot' 'High' True]\n",
            " ['Overcast' 'Hot' 'High' False]\n",
            " ['Sunny' 'Mild' 'High' False]\n",
            " ['Sunny' 'Cool' 'Normal' False]\n",
            " ['Sunny' 'Cool' 'Normal' True]\n",
            " ['Overcast' 'Cool' 'Normal' True]\n",
            " ['Rainy' 'Mild' 'High' False]\n",
            " ['Rainy' 'Cool' 'Normal' False]\n",
            " ['Sunny' 'Mild' 'Normal' False]\n",
            " ['Rainy' 'Mild' 'Normal' True]\n",
            " ['Overcast' 'Mild' 'High' True]\n",
            " ['Overcast' 'Hot' 'Normal' False]\n",
            " ['Sunny' 'Mild' 'High' True]]\n",
            "['No' 'No' 'Yes' 'Yes' 'Yes' 'No' 'Yes' 'No' 'Yes' 'Yes' 'Yes' 'Yes' 'Yes'\n",
            " 'No']\n",
            "[['Sunny' 'Mild' 'Normal' False]\n",
            " ['Overcast' 'Mild' 'High' True]\n",
            " ['Rainy' 'Hot' 'High' False]]\n"
          ]
        }
      ],
      "source": [
        "import pandas as pd\n",
        "import io\n",
        "from sklearn.model_selection import train_test_split\n",
        "\n",
        "df1 = pd.read_csv('/content/sample_data/golf-dataset.csv')\n",
        "print(df1)\n",
        "df1.head(10)\n",
        " \n",
        "X = df1.iloc[:, [0,1,2, 3]].values\n",
        "y = df1.iloc[:, -1].values\n",
        "print(X)\n",
        "print(y)\n",
        "\n",
        "X_train, X_test, y_train, y_test = train_test_split( X, y, test_size = 0.2, random_state=42)\n",
        "\n",
        "print(X_test)\n"
      ]
    },
    {
      "cell_type": "code",
      "source": [
        "df1['Outlook'].replace(['Rainy'],[0], inplace=True)\n",
        "df1['Outlook'].replace(['Overcast'],[1], inplace=True)\n",
        "print(df1)"
      ],
      "metadata": {
        "colab": {
          "base_uri": "https://localhost:8080/"
        },
        "id": "47c0uAWmQf-n",
        "outputId": "a258a32e-39c9-47bb-e89f-1bcd23d6c4aa"
      },
      "execution_count": 3,
      "outputs": [
        {
          "output_type": "stream",
          "name": "stdout",
          "text": [
            "   Outlook  Temp Humidity  Windy Play Golf\n",
            "0        0   Hot     High  False        No\n",
            "1        0   Hot     High   True        No\n",
            "2        1   Hot     High  False       Yes\n",
            "3    Sunny  Mild     High  False       Yes\n",
            "4    Sunny  Cool   Normal  False       Yes\n",
            "5    Sunny  Cool   Normal   True        No\n",
            "6        1  Cool   Normal   True       Yes\n",
            "7        0  Mild     High  False        No\n",
            "8        0  Cool   Normal  False       Yes\n",
            "9    Sunny  Mild   Normal  False       Yes\n",
            "10       0  Mild   Normal   True       Yes\n",
            "11       1  Mild     High   True       Yes\n",
            "12       1   Hot   Normal  False       Yes\n",
            "13   Sunny  Mild     High   True        No\n"
          ]
        }
      ]
    }
  ]
}